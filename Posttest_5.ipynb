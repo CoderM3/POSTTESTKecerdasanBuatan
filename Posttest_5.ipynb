{
  "nbformat": 4,
  "nbformat_minor": 0,
  "metadata": {
    "colab": {
      "provenance": []
    },
    "kernelspec": {
      "name": "python3",
      "display_name": "Python 3"
    },
    "language_info": {
      "name": "python"
    }
  },
  "cells": [
    {
      "cell_type": "markdown",
      "source": [
        "Import library yang penting"
      ],
      "metadata": {
        "id": "6vuddeOwa1-M"
      }
    },
    {
      "cell_type": "code",
      "source": [
        "import os\n",
        "import numpy as np\n",
        "import pandas as pd\n",
        "import matplotlib.pyplot as plt\n",
        "import seaborn as sns\n",
        "\n",
        "from sklearn.model_selection import train_test_split\n",
        "from sklearn.preprocessing import StandardScaler\n",
        "from sklearn.metrics import mean_absolute_error, mean_squared_error, r2_score\n",
        "\n",
        "import tensorflow as tf\n",
        "from tensorflow.keras.models import Sequential\n",
        "from tensorflow.keras.layers import Dense, Dropout, BatchNormalization\n",
        "from tensorflow.keras.callbacks import EarlyStopping, ReduceLROnPlateau\n",
        "from tensorflow.keras import regularizers\n",
        "from tensorflow.keras.optimizers import Adam"
      ],
      "metadata": {
        "id": "qcIxW4kIbN65"
      },
      "execution_count": 120,
      "outputs": []
    },
    {
      "cell_type": "markdown",
      "source": [
        "Load Dataset"
      ],
      "metadata": {
        "id": "S2LG9lY6bV7V"
      }
    },
    {
      "cell_type": "code",
      "source": [
        "df = pd.read_csv('vehicles.csv', low_memory=False)\n",
        "print(\"Loaded dataset shape:\", df.shape)\n",
        "display(df.head())"
      ],
      "metadata": {
        "colab": {
          "base_uri": "https://localhost:8080/",
          "height": 340
        },
        "id": "wQSWRCfLbX4x",
        "outputId": "ca3ed0f3-6a2d-437a-e5d0-4485ef9986be"
      },
      "execution_count": 121,
      "outputs": [
        {
          "output_type": "stream",
          "name": "stdout",
          "text": [
            "Loaded dataset shape: (49529, 84)\n"
          ]
        },
        {
          "output_type": "display_data",
          "data": {
            "text/plain": [
              "   barrels08  barrelsA08  charge120  charge240  city08  city08U  cityA08  \\\n",
              "0  14.167143         0.0        0.0        0.0      19      0.0        0   \n",
              "1  27.046364         0.0        0.0        0.0       9      0.0        0   \n",
              "2  11.018889         0.0        0.0        0.0      23      0.0        0   \n",
              "3  27.046364         0.0        0.0        0.0      10      0.0        0   \n",
              "4  15.658421         0.0        0.0        0.0      17      0.0        0   \n",
              "\n",
              "   cityA08U  cityCD  cityE  ...  mfrCode  c240Dscr  charge240b  c240bDscr  \\\n",
              "0       0.0     0.0    0.0  ...      NaN       NaN         0.0        NaN   \n",
              "1       0.0     0.0    0.0  ...      NaN       NaN         0.0        NaN   \n",
              "2       0.0     0.0    0.0  ...      NaN       NaN         0.0        NaN   \n",
              "3       0.0     0.0    0.0  ...      NaN       NaN         0.0        NaN   \n",
              "4       0.0     0.0    0.0  ...      NaN       NaN         0.0        NaN   \n",
              "\n",
              "                      createdOn                    modifiedOn  startStop  \\\n",
              "0  Tue Jan 01 00:00:00 EST 2013  Tue Jan 01 00:00:00 EST 2013        NaN   \n",
              "1  Tue Jan 01 00:00:00 EST 2013  Tue Jan 01 00:00:00 EST 2013        NaN   \n",
              "2  Tue Jan 01 00:00:00 EST 2013  Tue Jan 01 00:00:00 EST 2013        NaN   \n",
              "3  Tue Jan 01 00:00:00 EST 2013  Tue Jan 01 00:00:00 EST 2013        NaN   \n",
              "4  Tue Jan 01 00:00:00 EST 2013  Tue Jan 01 00:00:00 EST 2013        NaN   \n",
              "\n",
              "   phevCity  phevHwy  phevComb  \n",
              "0         0        0         0  \n",
              "1         0        0         0  \n",
              "2         0        0         0  \n",
              "3         0        0         0  \n",
              "4         0        0         0  \n",
              "\n",
              "[5 rows x 84 columns]"
            ],
            "text/html": [
              "\n",
              "  <div id=\"df-96cfbacb-e08a-42a5-ae00-b8d39e359495\" class=\"colab-df-container\">\n",
              "    <div>\n",
              "<style scoped>\n",
              "    .dataframe tbody tr th:only-of-type {\n",
              "        vertical-align: middle;\n",
              "    }\n",
              "\n",
              "    .dataframe tbody tr th {\n",
              "        vertical-align: top;\n",
              "    }\n",
              "\n",
              "    .dataframe thead th {\n",
              "        text-align: right;\n",
              "    }\n",
              "</style>\n",
              "<table border=\"1\" class=\"dataframe\">\n",
              "  <thead>\n",
              "    <tr style=\"text-align: right;\">\n",
              "      <th></th>\n",
              "      <th>barrels08</th>\n",
              "      <th>barrelsA08</th>\n",
              "      <th>charge120</th>\n",
              "      <th>charge240</th>\n",
              "      <th>city08</th>\n",
              "      <th>city08U</th>\n",
              "      <th>cityA08</th>\n",
              "      <th>cityA08U</th>\n",
              "      <th>cityCD</th>\n",
              "      <th>cityE</th>\n",
              "      <th>...</th>\n",
              "      <th>mfrCode</th>\n",
              "      <th>c240Dscr</th>\n",
              "      <th>charge240b</th>\n",
              "      <th>c240bDscr</th>\n",
              "      <th>createdOn</th>\n",
              "      <th>modifiedOn</th>\n",
              "      <th>startStop</th>\n",
              "      <th>phevCity</th>\n",
              "      <th>phevHwy</th>\n",
              "      <th>phevComb</th>\n",
              "    </tr>\n",
              "  </thead>\n",
              "  <tbody>\n",
              "    <tr>\n",
              "      <th>0</th>\n",
              "      <td>14.167143</td>\n",
              "      <td>0.0</td>\n",
              "      <td>0.0</td>\n",
              "      <td>0.0</td>\n",
              "      <td>19</td>\n",
              "      <td>0.0</td>\n",
              "      <td>0</td>\n",
              "      <td>0.0</td>\n",
              "      <td>0.0</td>\n",
              "      <td>0.0</td>\n",
              "      <td>...</td>\n",
              "      <td>NaN</td>\n",
              "      <td>NaN</td>\n",
              "      <td>0.0</td>\n",
              "      <td>NaN</td>\n",
              "      <td>Tue Jan 01 00:00:00 EST 2013</td>\n",
              "      <td>Tue Jan 01 00:00:00 EST 2013</td>\n",
              "      <td>NaN</td>\n",
              "      <td>0</td>\n",
              "      <td>0</td>\n",
              "      <td>0</td>\n",
              "    </tr>\n",
              "    <tr>\n",
              "      <th>1</th>\n",
              "      <td>27.046364</td>\n",
              "      <td>0.0</td>\n",
              "      <td>0.0</td>\n",
              "      <td>0.0</td>\n",
              "      <td>9</td>\n",
              "      <td>0.0</td>\n",
              "      <td>0</td>\n",
              "      <td>0.0</td>\n",
              "      <td>0.0</td>\n",
              "      <td>0.0</td>\n",
              "      <td>...</td>\n",
              "      <td>NaN</td>\n",
              "      <td>NaN</td>\n",
              "      <td>0.0</td>\n",
              "      <td>NaN</td>\n",
              "      <td>Tue Jan 01 00:00:00 EST 2013</td>\n",
              "      <td>Tue Jan 01 00:00:00 EST 2013</td>\n",
              "      <td>NaN</td>\n",
              "      <td>0</td>\n",
              "      <td>0</td>\n",
              "      <td>0</td>\n",
              "    </tr>\n",
              "    <tr>\n",
              "      <th>2</th>\n",
              "      <td>11.018889</td>\n",
              "      <td>0.0</td>\n",
              "      <td>0.0</td>\n",
              "      <td>0.0</td>\n",
              "      <td>23</td>\n",
              "      <td>0.0</td>\n",
              "      <td>0</td>\n",
              "      <td>0.0</td>\n",
              "      <td>0.0</td>\n",
              "      <td>0.0</td>\n",
              "      <td>...</td>\n",
              "      <td>NaN</td>\n",
              "      <td>NaN</td>\n",
              "      <td>0.0</td>\n",
              "      <td>NaN</td>\n",
              "      <td>Tue Jan 01 00:00:00 EST 2013</td>\n",
              "      <td>Tue Jan 01 00:00:00 EST 2013</td>\n",
              "      <td>NaN</td>\n",
              "      <td>0</td>\n",
              "      <td>0</td>\n",
              "      <td>0</td>\n",
              "    </tr>\n",
              "    <tr>\n",
              "      <th>3</th>\n",
              "      <td>27.046364</td>\n",
              "      <td>0.0</td>\n",
              "      <td>0.0</td>\n",
              "      <td>0.0</td>\n",
              "      <td>10</td>\n",
              "      <td>0.0</td>\n",
              "      <td>0</td>\n",
              "      <td>0.0</td>\n",
              "      <td>0.0</td>\n",
              "      <td>0.0</td>\n",
              "      <td>...</td>\n",
              "      <td>NaN</td>\n",
              "      <td>NaN</td>\n",
              "      <td>0.0</td>\n",
              "      <td>NaN</td>\n",
              "      <td>Tue Jan 01 00:00:00 EST 2013</td>\n",
              "      <td>Tue Jan 01 00:00:00 EST 2013</td>\n",
              "      <td>NaN</td>\n",
              "      <td>0</td>\n",
              "      <td>0</td>\n",
              "      <td>0</td>\n",
              "    </tr>\n",
              "    <tr>\n",
              "      <th>4</th>\n",
              "      <td>15.658421</td>\n",
              "      <td>0.0</td>\n",
              "      <td>0.0</td>\n",
              "      <td>0.0</td>\n",
              "      <td>17</td>\n",
              "      <td>0.0</td>\n",
              "      <td>0</td>\n",
              "      <td>0.0</td>\n",
              "      <td>0.0</td>\n",
              "      <td>0.0</td>\n",
              "      <td>...</td>\n",
              "      <td>NaN</td>\n",
              "      <td>NaN</td>\n",
              "      <td>0.0</td>\n",
              "      <td>NaN</td>\n",
              "      <td>Tue Jan 01 00:00:00 EST 2013</td>\n",
              "      <td>Tue Jan 01 00:00:00 EST 2013</td>\n",
              "      <td>NaN</td>\n",
              "      <td>0</td>\n",
              "      <td>0</td>\n",
              "      <td>0</td>\n",
              "    </tr>\n",
              "  </tbody>\n",
              "</table>\n",
              "<p>5 rows × 84 columns</p>\n",
              "</div>\n",
              "    <div class=\"colab-df-buttons\">\n",
              "\n",
              "  <div class=\"colab-df-container\">\n",
              "    <button class=\"colab-df-convert\" onclick=\"convertToInteractive('df-96cfbacb-e08a-42a5-ae00-b8d39e359495')\"\n",
              "            title=\"Convert this dataframe to an interactive table.\"\n",
              "            style=\"display:none;\">\n",
              "\n",
              "  <svg xmlns=\"http://www.w3.org/2000/svg\" height=\"24px\" viewBox=\"0 -960 960 960\">\n",
              "    <path d=\"M120-120v-720h720v720H120Zm60-500h600v-160H180v160Zm220 220h160v-160H400v160Zm0 220h160v-160H400v160ZM180-400h160v-160H180v160Zm440 0h160v-160H620v160ZM180-180h160v-160H180v160Zm440 0h160v-160H620v160Z\"/>\n",
              "  </svg>\n",
              "    </button>\n",
              "\n",
              "  <style>\n",
              "    .colab-df-container {\n",
              "      display:flex;\n",
              "      gap: 12px;\n",
              "    }\n",
              "\n",
              "    .colab-df-convert {\n",
              "      background-color: #E8F0FE;\n",
              "      border: none;\n",
              "      border-radius: 50%;\n",
              "      cursor: pointer;\n",
              "      display: none;\n",
              "      fill: #1967D2;\n",
              "      height: 32px;\n",
              "      padding: 0 0 0 0;\n",
              "      width: 32px;\n",
              "    }\n",
              "\n",
              "    .colab-df-convert:hover {\n",
              "      background-color: #E2EBFA;\n",
              "      box-shadow: 0px 1px 2px rgba(60, 64, 67, 0.3), 0px 1px 3px 1px rgba(60, 64, 67, 0.15);\n",
              "      fill: #174EA6;\n",
              "    }\n",
              "\n",
              "    .colab-df-buttons div {\n",
              "      margin-bottom: 4px;\n",
              "    }\n",
              "\n",
              "    [theme=dark] .colab-df-convert {\n",
              "      background-color: #3B4455;\n",
              "      fill: #D2E3FC;\n",
              "    }\n",
              "\n",
              "    [theme=dark] .colab-df-convert:hover {\n",
              "      background-color: #434B5C;\n",
              "      box-shadow: 0px 1px 3px 1px rgba(0, 0, 0, 0.15);\n",
              "      filter: drop-shadow(0px 1px 2px rgba(0, 0, 0, 0.3));\n",
              "      fill: #FFFFFF;\n",
              "    }\n",
              "  </style>\n",
              "\n",
              "    <script>\n",
              "      const buttonEl =\n",
              "        document.querySelector('#df-96cfbacb-e08a-42a5-ae00-b8d39e359495 button.colab-df-convert');\n",
              "      buttonEl.style.display =\n",
              "        google.colab.kernel.accessAllowed ? 'block' : 'none';\n",
              "\n",
              "      async function convertToInteractive(key) {\n",
              "        const element = document.querySelector('#df-96cfbacb-e08a-42a5-ae00-b8d39e359495');\n",
              "        const dataTable =\n",
              "          await google.colab.kernel.invokeFunction('convertToInteractive',\n",
              "                                                    [key], {});\n",
              "        if (!dataTable) return;\n",
              "\n",
              "        const docLinkHtml = 'Like what you see? Visit the ' +\n",
              "          '<a target=\"_blank\" href=https://colab.research.google.com/notebooks/data_table.ipynb>data table notebook</a>'\n",
              "          + ' to learn more about interactive tables.';\n",
              "        element.innerHTML = '';\n",
              "        dataTable['output_type'] = 'display_data';\n",
              "        await google.colab.output.renderOutput(dataTable, element);\n",
              "        const docLink = document.createElement('div');\n",
              "        docLink.innerHTML = docLinkHtml;\n",
              "        element.appendChild(docLink);\n",
              "      }\n",
              "    </script>\n",
              "  </div>\n",
              "\n",
              "\n",
              "    <div id=\"df-900377a5-13ef-4939-ba9e-353fd23d532e\">\n",
              "      <button class=\"colab-df-quickchart\" onclick=\"quickchart('df-900377a5-13ef-4939-ba9e-353fd23d532e')\"\n",
              "                title=\"Suggest charts\"\n",
              "                style=\"display:none;\">\n",
              "\n",
              "<svg xmlns=\"http://www.w3.org/2000/svg\" height=\"24px\"viewBox=\"0 0 24 24\"\n",
              "     width=\"24px\">\n",
              "    <g>\n",
              "        <path d=\"M19 3H5c-1.1 0-2 .9-2 2v14c0 1.1.9 2 2 2h14c1.1 0 2-.9 2-2V5c0-1.1-.9-2-2-2zM9 17H7v-7h2v7zm4 0h-2V7h2v10zm4 0h-2v-4h2v4z\"/>\n",
              "    </g>\n",
              "</svg>\n",
              "      </button>\n",
              "\n",
              "<style>\n",
              "  .colab-df-quickchart {\n",
              "      --bg-color: #E8F0FE;\n",
              "      --fill-color: #1967D2;\n",
              "      --hover-bg-color: #E2EBFA;\n",
              "      --hover-fill-color: #174EA6;\n",
              "      --disabled-fill-color: #AAA;\n",
              "      --disabled-bg-color: #DDD;\n",
              "  }\n",
              "\n",
              "  [theme=dark] .colab-df-quickchart {\n",
              "      --bg-color: #3B4455;\n",
              "      --fill-color: #D2E3FC;\n",
              "      --hover-bg-color: #434B5C;\n",
              "      --hover-fill-color: #FFFFFF;\n",
              "      --disabled-bg-color: #3B4455;\n",
              "      --disabled-fill-color: #666;\n",
              "  }\n",
              "\n",
              "  .colab-df-quickchart {\n",
              "    background-color: var(--bg-color);\n",
              "    border: none;\n",
              "    border-radius: 50%;\n",
              "    cursor: pointer;\n",
              "    display: none;\n",
              "    fill: var(--fill-color);\n",
              "    height: 32px;\n",
              "    padding: 0;\n",
              "    width: 32px;\n",
              "  }\n",
              "\n",
              "  .colab-df-quickchart:hover {\n",
              "    background-color: var(--hover-bg-color);\n",
              "    box-shadow: 0 1px 2px rgba(60, 64, 67, 0.3), 0 1px 3px 1px rgba(60, 64, 67, 0.15);\n",
              "    fill: var(--button-hover-fill-color);\n",
              "  }\n",
              "\n",
              "  .colab-df-quickchart-complete:disabled,\n",
              "  .colab-df-quickchart-complete:disabled:hover {\n",
              "    background-color: var(--disabled-bg-color);\n",
              "    fill: var(--disabled-fill-color);\n",
              "    box-shadow: none;\n",
              "  }\n",
              "\n",
              "  .colab-df-spinner {\n",
              "    border: 2px solid var(--fill-color);\n",
              "    border-color: transparent;\n",
              "    border-bottom-color: var(--fill-color);\n",
              "    animation:\n",
              "      spin 1s steps(1) infinite;\n",
              "  }\n",
              "\n",
              "  @keyframes spin {\n",
              "    0% {\n",
              "      border-color: transparent;\n",
              "      border-bottom-color: var(--fill-color);\n",
              "      border-left-color: var(--fill-color);\n",
              "    }\n",
              "    20% {\n",
              "      border-color: transparent;\n",
              "      border-left-color: var(--fill-color);\n",
              "      border-top-color: var(--fill-color);\n",
              "    }\n",
              "    30% {\n",
              "      border-color: transparent;\n",
              "      border-left-color: var(--fill-color);\n",
              "      border-top-color: var(--fill-color);\n",
              "      border-right-color: var(--fill-color);\n",
              "    }\n",
              "    40% {\n",
              "      border-color: transparent;\n",
              "      border-right-color: var(--fill-color);\n",
              "      border-top-color: var(--fill-color);\n",
              "    }\n",
              "    60% {\n",
              "      border-color: transparent;\n",
              "      border-right-color: var(--fill-color);\n",
              "    }\n",
              "    80% {\n",
              "      border-color: transparent;\n",
              "      border-right-color: var(--fill-color);\n",
              "      border-bottom-color: var(--fill-color);\n",
              "    }\n",
              "    90% {\n",
              "      border-color: transparent;\n",
              "      border-bottom-color: var(--fill-color);\n",
              "    }\n",
              "  }\n",
              "</style>\n",
              "\n",
              "      <script>\n",
              "        async function quickchart(key) {\n",
              "          const quickchartButtonEl =\n",
              "            document.querySelector('#' + key + ' button');\n",
              "          quickchartButtonEl.disabled = true;  // To prevent multiple clicks.\n",
              "          quickchartButtonEl.classList.add('colab-df-spinner');\n",
              "          try {\n",
              "            const charts = await google.colab.kernel.invokeFunction(\n",
              "                'suggestCharts', [key], {});\n",
              "          } catch (error) {\n",
              "            console.error('Error during call to suggestCharts:', error);\n",
              "          }\n",
              "          quickchartButtonEl.classList.remove('colab-df-spinner');\n",
              "          quickchartButtonEl.classList.add('colab-df-quickchart-complete');\n",
              "        }\n",
              "        (() => {\n",
              "          let quickchartButtonEl =\n",
              "            document.querySelector('#df-900377a5-13ef-4939-ba9e-353fd23d532e button');\n",
              "          quickchartButtonEl.style.display =\n",
              "            google.colab.kernel.accessAllowed ? 'block' : 'none';\n",
              "        })();\n",
              "      </script>\n",
              "    </div>\n",
              "\n",
              "    </div>\n",
              "  </div>\n"
            ],
            "application/vnd.google.colaboratory.intrinsic+json": {
              "type": "dataframe"
            }
          },
          "metadata": {}
        }
      ]
    },
    {
      "cell_type": "markdown",
      "source": [
        "Cek kolom dan pilih kolom yang dipakai untuk deep learning"
      ],
      "metadata": {
        "id": "vtIeMVaGdZ_-"
      }
    },
    {
      "cell_type": "code",
      "source": [
        "# Target: comb08 (combined MPG)\n",
        "if 'comb08' not in df.columns:\n",
        "    raise SystemExit(\"Kolom 'comb08' tidak ditemukan. Pastikan file vehicles.csv benar.\")\n",
        "\n",
        "# Memilih kolom yang agak digunakan untuk deep learning\n",
        "cols_candidate = [\n",
        "    'make', 'model', 'year', 'displ', 'cylinders', 'fuelType', 'fuelType2',\n",
        "    'trany', 'drive', 'VClass'\n",
        "]\n",
        "cols = [c for c in cols_candidate if c in df.columns]\n",
        "print(\"Using columns:\", cols)\n",
        "\n",
        "df = df[df['comb08'].notna()].copy()"
      ],
      "metadata": {
        "colab": {
          "base_uri": "https://localhost:8080/"
        },
        "id": "TOd-pmFEdok-",
        "outputId": "5db80c7f-3bd1-43ac-ae1e-b6ad6eb7fa51"
      },
      "execution_count": 122,
      "outputs": [
        {
          "output_type": "stream",
          "name": "stdout",
          "text": [
            "Using columns: ['make', 'model', 'year', 'displ', 'cylinders', 'fuelType', 'fuelType2', 'trany', 'drive', 'VClass']\n"
          ]
        }
      ]
    },
    {
      "cell_type": "markdown",
      "source": [
        "Membersihkan dataset dan konversi tipe data menjadi numerik"
      ],
      "metadata": {
        "id": "eFO1VL_McCei"
      }
    },
    {
      "cell_type": "code",
      "source": [
        "# Konversi kolom \"numerik-like\" menjadi numerik asli\n",
        "numeric_cols = ['displ', 'cylinders', 'year']\n",
        "for c in numeric_cols:\n",
        "    if c in df.columns:\n",
        "        df[c] = pd.to_numeric(df[c], errors='coerce')\n",
        "\n",
        "#Hapus baris yang mengandung NaN\n",
        "need_numeric = ['displ', 'cylinders', 'comb08']\n",
        "need_numeric = [c for c in need_numeric if c in df.columns]\n",
        "df.dropna(subset=need_numeric, inplace=True)\n",
        "\n",
        "print(\"After cleaning shape:\", df.shape)"
      ],
      "metadata": {
        "colab": {
          "base_uri": "https://localhost:8080/"
        },
        "id": "P2n5Iw0PcLlX",
        "outputId": "637f4ce7-a59e-4e3b-ae2e-bc2f941399e9"
      },
      "execution_count": 123,
      "outputs": [
        {
          "output_type": "stream",
          "name": "stdout",
          "text": [
            "After cleaning shape: (48179, 84)\n"
          ]
        }
      ]
    },
    {
      "cell_type": "markdown",
      "source": [
        "Feature engineering"
      ],
      "metadata": {
        "id": "6a_vibkfdyQw"
      }
    },
    {
      "cell_type": "code",
      "source": [
        "#  - displacement_per_cyl\n",
        "#  - year_age (relative age)\n",
        "#  - engine_size_indicator (displ)\n",
        "df['displacement_per_cyl'] = df['displ'] / df['cylinders']\n",
        "df['vehicle_age'] = df['year'].max() - df['year']  # lebih baru -> lebih muda\n",
        "\n",
        "# Hapus nilai yang absurd\n",
        "df.replace([np.inf, -np.inf], np.nan, inplace=True)\n",
        "df.dropna(subset=['displacement_per_cyl'], inplace=True)"
      ],
      "metadata": {
        "colab": {
          "base_uri": "https://localhost:8080/"
        },
        "id": "VVt1zTdmd0aP",
        "outputId": "aece1249-53d4-4c32-aef7-81a53f90d26d"
      },
      "execution_count": 124,
      "outputs": [
        {
          "output_type": "stream",
          "name": "stderr",
          "text": [
            "/tmp/ipython-input-860913891.py:8: FutureWarning: Downcasting behavior in `replace` is deprecated and will be removed in a future version. To retain the old behavior, explicitly call `result.infer_objects(copy=False)`. To opt-in to the future behavior, set `pd.set_option('future.no_silent_downcasting', True)`\n",
            "  df.replace([np.inf, -np.inf], np.nan, inplace=True)\n"
          ]
        }
      ]
    },
    {
      "cell_type": "markdown",
      "source": [
        "Categorical Handling"
      ],
      "metadata": {
        "id": "cpLg-cUoeYa0"
      }
    },
    {
      "cell_type": "code",
      "source": [
        "def top_n_to_other(series, n=20):\n",
        "    top = series.value_counts().nlargest(n).index\n",
        "    return series.where(series.isin(top), other='Other')\n",
        "\n",
        "if 'make' in df.columns:\n",
        "    df['make_reduced'] = top_n_to_other(df['make'], n=20)\n",
        "if 'VClass' in df.columns:\n",
        "    df['VClass_reduced'] = top_n_to_other(df['VClass'], n=20)\n",
        "\n",
        "# pilih fitur untuk model:\n",
        "feature_cols = []\n",
        "# numeric base\n",
        "for c in ['displ', 'cylinders', 'vehicle_age', 'displacement_per_cyl']:\n",
        "    if c in df.columns:\n",
        "        feature_cols.append(c)\n",
        "\n",
        "# Kategorikal tereduksi (akan dilakukan one-hot encoding)\n",
        "cat_cols = []\n",
        "for c in ['make_reduced', 'fuelType', 'trany', 'VClass_reduced']:\n",
        "    if c in df.columns:\n",
        "        cat_cols.append(c)\n",
        "\n",
        "print(\"Numeric features used:\", feature_cols)\n",
        "print(\"Categorical features used:\", cat_cols)\n",
        "\n",
        "#encode kolom kategorikal yang dipilih dengan pandas.get_dummies)\n",
        "df_enc = pd.get_dummies(df[cat_cols].astype(str), drop_first=False)\n",
        "print(\"One-hot shape:\", df_enc.shape)\n",
        "\n",
        "# Mengumpulkan semua fitur menjadi satu paket yang siap dilatih\n",
        "X_numeric = df[feature_cols].reset_index(drop=True)\n",
        "X = pd.concat([X_numeric, df_enc.reset_index(drop=True)], axis=1)\n",
        "y = df['comb08'].reset_index(drop=True)\n",
        "\n",
        "print(\"Final X shape:\", X.shape)\n",
        "print(\"Final y shape:\", y.shape)"
      ],
      "metadata": {
        "colab": {
          "base_uri": "https://localhost:8080/"
        },
        "id": "2M9TO6f_ec_E",
        "outputId": "850b5f32-44aa-4f9f-851d-5e6c76f6dc9f"
      },
      "execution_count": 125,
      "outputs": [
        {
          "output_type": "stream",
          "name": "stdout",
          "text": [
            "Numeric features used: ['displ', 'cylinders', 'vehicle_age', 'displacement_per_cyl']\n",
            "Categorical features used: ['make_reduced', 'fuelType', 'trany', 'VClass_reduced']\n",
            "One-hot shape: (48179, 95)\n",
            "Final X shape: (48179, 99)\n",
            "Final y shape: (48179,)\n"
          ]
        }
      ]
    },
    {
      "cell_type": "markdown",
      "source": [
        "Train-test split"
      ],
      "metadata": {
        "id": "_oGakNrWgDWX"
      }
    },
    {
      "cell_type": "code",
      "source": [
        "X_train, X_test, y_train, y_test = train_test_split(\n",
        "    X, y, test_size=0.20, random_state=42\n",
        ")\n",
        "print(\"Train/test sizes:\", X_train.shape[0], X_test.shape[0])"
      ],
      "metadata": {
        "colab": {
          "base_uri": "https://localhost:8080/"
        },
        "id": "B4tRb9A7gFJs",
        "outputId": "cf0fd185-ffbe-4146-f8dc-449aa02bcdc3"
      },
      "execution_count": 126,
      "outputs": [
        {
          "output_type": "stream",
          "name": "stdout",
          "text": [
            "Train/test sizes: 38543 9636\n"
          ]
        }
      ]
    },
    {
      "cell_type": "markdown",
      "source": [
        "Scaling numeric features"
      ],
      "metadata": {
        "id": "75epIjYAgHNS"
      }
    },
    {
      "cell_type": "code",
      "source": [
        "# Menskalakan kolom numerik, cari indeks nya\n",
        "numeric_index = [X.columns.get_loc(col) for col in feature_cols]\n",
        "scaler = StandardScaler()\n",
        "X_train_num = X_train.iloc[:, numeric_index]\n",
        "X_test_num = X_test.iloc[:, numeric_index]\n",
        "\n",
        "scaler.fit(X_train_num)\n",
        "X_train_scaled_num = scaler.transform(X_train_num)\n",
        "X_test_scaled_num = scaler.transform(X_test_num)\n",
        "\n",
        "# Ganti bagian numerik di X_train dan X_test\n",
        "X_train_scaled = X_train.copy()\n",
        "X_test_scaled  = X_test.copy()\n",
        "\n",
        "for i, col in enumerate(feature_cols):\n",
        "    X_train_scaled.iloc[:, X_train.columns.get_loc(col)] = X_train_scaled_num[:, i]\n",
        "    X_test_scaled.iloc[:, X_test.columns.get_loc(col)] = X_test_scaled_num[:, i]\n",
        "\n",
        "# Mengubah data Pandas DataFrame jadi NumPy arrays untuk Keras\n",
        "X_train_arr = X_train_scaled.values.astype(np.float32)\n",
        "X_test_arr  = X_test_scaled.values.astype(np.float32)\n",
        "y_train_arr = y_train.values.astype(np.float32)\n",
        "y_test_arr  = y_test.values.astype(np.float32)\n",
        "\n",
        "print(\"Prepared numpy shapes:\", X_train_arr.shape, X_test_arr.shape)"
      ],
      "metadata": {
        "colab": {
          "base_uri": "https://localhost:8080/"
        },
        "id": "hqMAAxmwgPec",
        "outputId": "f27e7eb7-e86b-4ef8-f1d6-a58a70313976"
      },
      "execution_count": 127,
      "outputs": [
        {
          "output_type": "stream",
          "name": "stderr",
          "text": [
            "/tmp/ipython-input-750453997.py:16: FutureWarning: Setting an item of incompatible dtype is deprecated and will raise in a future error of pandas. Value '[ 0.28969626  0.13327359 -1.11810775 ... -1.35274175  0.83717559\n",
            " -0.25778308]' has dtype incompatible with int64, please explicitly cast to a compatible dtype first.\n",
            "  X_train_scaled.iloc[:, X_train.columns.get_loc(col)] = X_train_scaled_num[:, i]\n",
            "/tmp/ipython-input-750453997.py:17: FutureWarning: Setting an item of incompatible dtype is deprecated and will raise in a future error of pandas. Value '[ 0.83717559  0.36790759 -0.25778308 ... -1.35274175  1.38465493\n",
            "  1.15002093]' has dtype incompatible with int64, please explicitly cast to a compatible dtype first.\n",
            "  X_test_scaled.iloc[:, X_test.columns.get_loc(col)] = X_test_scaled_num[:, i]\n"
          ]
        },
        {
          "output_type": "stream",
          "name": "stdout",
          "text": [
            "Prepared numpy shapes: (38543, 99) (9636, 99)\n"
          ]
        }
      ]
    },
    {
      "cell_type": "markdown",
      "source": [
        "Simple sequential model (regression)"
      ],
      "metadata": {
        "id": "R38-QcRUgwv0"
      }
    },
    {
      "cell_type": "code",
      "source": [
        "input_dim = X_train_arr.shape[1]\n",
        "model = Sequential([\n",
        "     Dense(128, activation='relu', input_shape=(X_train_scaled.shape[1],),\n",
        "          kernel_regularizer=regularizers.l2(0.001)),\n",
        "    BatchNormalization(),\n",
        "    Dropout(0.4),\n",
        "\n",
        "    Dense(64, activation='relu',\n",
        "          kernel_regularizer=regularizers.l2(0.001)),\n",
        "    BatchNormalization(),\n",
        "    Dropout(0.4),\n",
        "\n",
        "    Dense(32, activation='relu'),\n",
        "    Dense(1)  # output layer untuk regresi\n",
        "])\n",
        "\n",
        "# Optimizer pakai Adam\n",
        "optimizer = Adam(learning_rate=0.001)\n",
        "\n",
        "model.compile(optimizer=tf.keras.optimizers.Adam(learning_rate=1e-3),\n",
        "              loss='mse',\n",
        "              metrics=['mae'] )\n",
        "\n",
        "model.summary()"
      ],
      "metadata": {
        "colab": {
          "base_uri": "https://localhost:8080/",
          "height": 497
        },
        "id": "oG2IirOtg2X2",
        "outputId": "13bf3c8f-d421-46f5-a1a7-7a2579470c49"
      },
      "execution_count": 128,
      "outputs": [
        {
          "output_type": "stream",
          "name": "stderr",
          "text": [
            "/usr/local/lib/python3.12/dist-packages/keras/src/layers/core/dense.py:93: UserWarning: Do not pass an `input_shape`/`input_dim` argument to a layer. When using Sequential models, prefer using an `Input(shape)` object as the first layer in the model instead.\n",
            "  super().__init__(activity_regularizer=activity_regularizer, **kwargs)\n"
          ]
        },
        {
          "output_type": "display_data",
          "data": {
            "text/plain": [
              "\u001b[1mModel: \"sequential_9\"\u001b[0m\n"
            ],
            "text/html": [
              "<pre style=\"white-space:pre;overflow-x:auto;line-height:normal;font-family:Menlo,'DejaVu Sans Mono',consolas,'Courier New',monospace\"><span style=\"font-weight: bold\">Model: \"sequential_9\"</span>\n",
              "</pre>\n"
            ]
          },
          "metadata": {}
        },
        {
          "output_type": "display_data",
          "data": {
            "text/plain": [
              "┏━━━━━━━━━━━━━━━━━━━━━━━━━━━━━━━━━┳━━━━━━━━━━━━━━━━━━━━━━━━┳━━━━━━━━━━━━━━━┓\n",
              "┃\u001b[1m \u001b[0m\u001b[1mLayer (type)                   \u001b[0m\u001b[1m \u001b[0m┃\u001b[1m \u001b[0m\u001b[1mOutput Shape          \u001b[0m\u001b[1m \u001b[0m┃\u001b[1m \u001b[0m\u001b[1m      Param #\u001b[0m\u001b[1m \u001b[0m┃\n",
              "┡━━━━━━━━━━━━━━━━━━━━━━━━━━━━━━━━━╇━━━━━━━━━━━━━━━━━━━━━━━━╇━━━━━━━━━━━━━━━┩\n",
              "│ dense_37 (\u001b[38;5;33mDense\u001b[0m)                │ (\u001b[38;5;45mNone\u001b[0m, \u001b[38;5;34m128\u001b[0m)            │        \u001b[38;5;34m12,800\u001b[0m │\n",
              "├─────────────────────────────────┼────────────────────────┼───────────────┤\n",
              "│ batch_normalization_16          │ (\u001b[38;5;45mNone\u001b[0m, \u001b[38;5;34m128\u001b[0m)            │           \u001b[38;5;34m512\u001b[0m │\n",
              "│ (\u001b[38;5;33mBatchNormalization\u001b[0m)            │                        │               │\n",
              "├─────────────────────────────────┼────────────────────────┼───────────────┤\n",
              "│ dropout_18 (\u001b[38;5;33mDropout\u001b[0m)            │ (\u001b[38;5;45mNone\u001b[0m, \u001b[38;5;34m128\u001b[0m)            │             \u001b[38;5;34m0\u001b[0m │\n",
              "├─────────────────────────────────┼────────────────────────┼───────────────┤\n",
              "│ dense_38 (\u001b[38;5;33mDense\u001b[0m)                │ (\u001b[38;5;45mNone\u001b[0m, \u001b[38;5;34m64\u001b[0m)             │         \u001b[38;5;34m8,256\u001b[0m │\n",
              "├─────────────────────────────────┼────────────────────────┼───────────────┤\n",
              "│ batch_normalization_17          │ (\u001b[38;5;45mNone\u001b[0m, \u001b[38;5;34m64\u001b[0m)             │           \u001b[38;5;34m256\u001b[0m │\n",
              "│ (\u001b[38;5;33mBatchNormalization\u001b[0m)            │                        │               │\n",
              "├─────────────────────────────────┼────────────────────────┼───────────────┤\n",
              "│ dropout_19 (\u001b[38;5;33mDropout\u001b[0m)            │ (\u001b[38;5;45mNone\u001b[0m, \u001b[38;5;34m64\u001b[0m)             │             \u001b[38;5;34m0\u001b[0m │\n",
              "├─────────────────────────────────┼────────────────────────┼───────────────┤\n",
              "│ dense_39 (\u001b[38;5;33mDense\u001b[0m)                │ (\u001b[38;5;45mNone\u001b[0m, \u001b[38;5;34m32\u001b[0m)             │         \u001b[38;5;34m2,080\u001b[0m │\n",
              "├─────────────────────────────────┼────────────────────────┼───────────────┤\n",
              "│ dense_40 (\u001b[38;5;33mDense\u001b[0m)                │ (\u001b[38;5;45mNone\u001b[0m, \u001b[38;5;34m1\u001b[0m)              │            \u001b[38;5;34m33\u001b[0m │\n",
              "└─────────────────────────────────┴────────────────────────┴───────────────┘\n"
            ],
            "text/html": [
              "<pre style=\"white-space:pre;overflow-x:auto;line-height:normal;font-family:Menlo,'DejaVu Sans Mono',consolas,'Courier New',monospace\">┏━━━━━━━━━━━━━━━━━━━━━━━━━━━━━━━━━┳━━━━━━━━━━━━━━━━━━━━━━━━┳━━━━━━━━━━━━━━━┓\n",
              "┃<span style=\"font-weight: bold\"> Layer (type)                    </span>┃<span style=\"font-weight: bold\"> Output Shape           </span>┃<span style=\"font-weight: bold\">       Param # </span>┃\n",
              "┡━━━━━━━━━━━━━━━━━━━━━━━━━━━━━━━━━╇━━━━━━━━━━━━━━━━━━━━━━━━╇━━━━━━━━━━━━━━━┩\n",
              "│ dense_37 (<span style=\"color: #0087ff; text-decoration-color: #0087ff\">Dense</span>)                │ (<span style=\"color: #00d7ff; text-decoration-color: #00d7ff\">None</span>, <span style=\"color: #00af00; text-decoration-color: #00af00\">128</span>)            │        <span style=\"color: #00af00; text-decoration-color: #00af00\">12,800</span> │\n",
              "├─────────────────────────────────┼────────────────────────┼───────────────┤\n",
              "│ batch_normalization_16          │ (<span style=\"color: #00d7ff; text-decoration-color: #00d7ff\">None</span>, <span style=\"color: #00af00; text-decoration-color: #00af00\">128</span>)            │           <span style=\"color: #00af00; text-decoration-color: #00af00\">512</span> │\n",
              "│ (<span style=\"color: #0087ff; text-decoration-color: #0087ff\">BatchNormalization</span>)            │                        │               │\n",
              "├─────────────────────────────────┼────────────────────────┼───────────────┤\n",
              "│ dropout_18 (<span style=\"color: #0087ff; text-decoration-color: #0087ff\">Dropout</span>)            │ (<span style=\"color: #00d7ff; text-decoration-color: #00d7ff\">None</span>, <span style=\"color: #00af00; text-decoration-color: #00af00\">128</span>)            │             <span style=\"color: #00af00; text-decoration-color: #00af00\">0</span> │\n",
              "├─────────────────────────────────┼────────────────────────┼───────────────┤\n",
              "│ dense_38 (<span style=\"color: #0087ff; text-decoration-color: #0087ff\">Dense</span>)                │ (<span style=\"color: #00d7ff; text-decoration-color: #00d7ff\">None</span>, <span style=\"color: #00af00; text-decoration-color: #00af00\">64</span>)             │         <span style=\"color: #00af00; text-decoration-color: #00af00\">8,256</span> │\n",
              "├─────────────────────────────────┼────────────────────────┼───────────────┤\n",
              "│ batch_normalization_17          │ (<span style=\"color: #00d7ff; text-decoration-color: #00d7ff\">None</span>, <span style=\"color: #00af00; text-decoration-color: #00af00\">64</span>)             │           <span style=\"color: #00af00; text-decoration-color: #00af00\">256</span> │\n",
              "│ (<span style=\"color: #0087ff; text-decoration-color: #0087ff\">BatchNormalization</span>)            │                        │               │\n",
              "├─────────────────────────────────┼────────────────────────┼───────────────┤\n",
              "│ dropout_19 (<span style=\"color: #0087ff; text-decoration-color: #0087ff\">Dropout</span>)            │ (<span style=\"color: #00d7ff; text-decoration-color: #00d7ff\">None</span>, <span style=\"color: #00af00; text-decoration-color: #00af00\">64</span>)             │             <span style=\"color: #00af00; text-decoration-color: #00af00\">0</span> │\n",
              "├─────────────────────────────────┼────────────────────────┼───────────────┤\n",
              "│ dense_39 (<span style=\"color: #0087ff; text-decoration-color: #0087ff\">Dense</span>)                │ (<span style=\"color: #00d7ff; text-decoration-color: #00d7ff\">None</span>, <span style=\"color: #00af00; text-decoration-color: #00af00\">32</span>)             │         <span style=\"color: #00af00; text-decoration-color: #00af00\">2,080</span> │\n",
              "├─────────────────────────────────┼────────────────────────┼───────────────┤\n",
              "│ dense_40 (<span style=\"color: #0087ff; text-decoration-color: #0087ff\">Dense</span>)                │ (<span style=\"color: #00d7ff; text-decoration-color: #00d7ff\">None</span>, <span style=\"color: #00af00; text-decoration-color: #00af00\">1</span>)              │            <span style=\"color: #00af00; text-decoration-color: #00af00\">33</span> │\n",
              "└─────────────────────────────────┴────────────────────────┴───────────────┘\n",
              "</pre>\n"
            ]
          },
          "metadata": {}
        },
        {
          "output_type": "display_data",
          "data": {
            "text/plain": [
              "\u001b[1m Total params: \u001b[0m\u001b[38;5;34m23,937\u001b[0m (93.50 KB)\n"
            ],
            "text/html": [
              "<pre style=\"white-space:pre;overflow-x:auto;line-height:normal;font-family:Menlo,'DejaVu Sans Mono',consolas,'Courier New',monospace\"><span style=\"font-weight: bold\"> Total params: </span><span style=\"color: #00af00; text-decoration-color: #00af00\">23,937</span> (93.50 KB)\n",
              "</pre>\n"
            ]
          },
          "metadata": {}
        },
        {
          "output_type": "display_data",
          "data": {
            "text/plain": [
              "\u001b[1m Trainable params: \u001b[0m\u001b[38;5;34m23,553\u001b[0m (92.00 KB)\n"
            ],
            "text/html": [
              "<pre style=\"white-space:pre;overflow-x:auto;line-height:normal;font-family:Menlo,'DejaVu Sans Mono',consolas,'Courier New',monospace\"><span style=\"font-weight: bold\"> Trainable params: </span><span style=\"color: #00af00; text-decoration-color: #00af00\">23,553</span> (92.00 KB)\n",
              "</pre>\n"
            ]
          },
          "metadata": {}
        },
        {
          "output_type": "display_data",
          "data": {
            "text/plain": [
              "\u001b[1m Non-trainable params: \u001b[0m\u001b[38;5;34m384\u001b[0m (1.50 KB)\n"
            ],
            "text/html": [
              "<pre style=\"white-space:pre;overflow-x:auto;line-height:normal;font-family:Menlo,'DejaVu Sans Mono',consolas,'Courier New',monospace\"><span style=\"font-weight: bold\"> Non-trainable params: </span><span style=\"color: #00af00; text-decoration-color: #00af00\">384</span> (1.50 KB)\n",
              "</pre>\n"
            ]
          },
          "metadata": {}
        }
      ]
    },
    {
      "cell_type": "markdown",
      "source": [
        "Callbacks & training"
      ],
      "metadata": {
        "id": "VkUX9HS6g6fq"
      }
    },
    {
      "cell_type": "code",
      "source": [
        "early = EarlyStopping(monitor='val_loss', patience=10, restore_best_weights=True, verbose=1)\n",
        "reduce_lr = ReduceLROnPlateau(monitor='val_loss', factor=0.5, patience=6, min_lr=1e-6, verbose=1)\n",
        "\n",
        "history = model.fit(\n",
        "    X_train_arr, y_train_arr,\n",
        "    validation_split=0.15,\n",
        "    epochs=100,\n",
        "    batch_size=64,\n",
        "    callbacks=[early, reduce_lr],\n",
        "    verbose=1\n",
        ")\n"
      ],
      "metadata": {
        "colab": {
          "base_uri": "https://localhost:8080/"
        },
        "id": "8GnpgAyng7Ld",
        "outputId": "33de095f-7e81-4407-918b-7fd620e6f908"
      },
      "execution_count": 129,
      "outputs": [
        {
          "output_type": "stream",
          "name": "stdout",
          "text": [
            "Epoch 1/100\n",
            "\u001b[1m512/512\u001b[0m \u001b[32m━━━━━━━━━━━━━━━━━━━━\u001b[0m\u001b[37m\u001b[0m \u001b[1m6s\u001b[0m 6ms/step - loss: 157.9032 - mae: 10.0733 - val_loss: 7.9802 - val_mae: 1.9222 - learning_rate: 0.0010\n",
            "Epoch 2/100\n",
            "\u001b[1m512/512\u001b[0m \u001b[32m━━━━━━━━━━━━━━━━━━━━\u001b[0m\u001b[37m\u001b[0m \u001b[1m4s\u001b[0m 8ms/step - loss: 15.9505 - mae: 3.0039 - val_loss: 5.0530 - val_mae: 1.5525 - learning_rate: 0.0010\n",
            "Epoch 3/100\n",
            "\u001b[1m512/512\u001b[0m \u001b[32m━━━━━━━━━━━━━━━━━━━━\u001b[0m\u001b[37m\u001b[0m \u001b[1m6s\u001b[0m 10ms/step - loss: 13.6140 - mae: 2.7647 - val_loss: 4.9723 - val_mae: 1.5878 - learning_rate: 0.0010\n",
            "Epoch 4/100\n",
            "\u001b[1m512/512\u001b[0m \u001b[32m━━━━━━━━━━━━━━━━━━━━\u001b[0m\u001b[37m\u001b[0m \u001b[1m5s\u001b[0m 9ms/step - loss: 12.4124 - mae: 2.6392 - val_loss: 4.4353 - val_mae: 1.5125 - learning_rate: 0.0010\n",
            "Epoch 5/100\n",
            "\u001b[1m512/512\u001b[0m \u001b[32m━━━━━━━━━━━━━━━━━━━━\u001b[0m\u001b[37m\u001b[0m \u001b[1m2s\u001b[0m 4ms/step - loss: 10.9354 - mae: 2.4806 - val_loss: 5.7458 - val_mae: 1.6801 - learning_rate: 0.0010\n",
            "Epoch 6/100\n",
            "\u001b[1m512/512\u001b[0m \u001b[32m━━━━━━━━━━━━━━━━━━━━\u001b[0m\u001b[37m\u001b[0m \u001b[1m2s\u001b[0m 4ms/step - loss: 10.2755 - mae: 2.3952 - val_loss: 4.5045 - val_mae: 1.5347 - learning_rate: 0.0010\n",
            "Epoch 7/100\n",
            "\u001b[1m512/512\u001b[0m \u001b[32m━━━━━━━━━━━━━━━━━━━━\u001b[0m\u001b[37m\u001b[0m \u001b[1m2s\u001b[0m 4ms/step - loss: 9.2657 - mae: 2.2646 - val_loss: 4.5463 - val_mae: 1.5631 - learning_rate: 0.0010\n",
            "Epoch 8/100\n",
            "\u001b[1m512/512\u001b[0m \u001b[32m━━━━━━━━━━━━━━━━━━━━\u001b[0m\u001b[37m\u001b[0m \u001b[1m3s\u001b[0m 5ms/step - loss: 8.5741 - mae: 2.1402 - val_loss: 6.5545 - val_mae: 1.8462 - learning_rate: 0.0010\n",
            "Epoch 9/100\n",
            "\u001b[1m512/512\u001b[0m \u001b[32m━━━━━━━━━━━━━━━━━━━━\u001b[0m\u001b[37m\u001b[0m \u001b[1m3s\u001b[0m 5ms/step - loss: 7.5635 - mae: 2.0167 - val_loss: 4.6693 - val_mae: 1.6537 - learning_rate: 0.0010\n",
            "Epoch 10/100\n",
            "\u001b[1m510/512\u001b[0m \u001b[32m━━━━━━━━━━━━━━━━━━━\u001b[0m\u001b[37m━\u001b[0m \u001b[1m0s\u001b[0m 3ms/step - loss: 6.8873 - mae: 1.8951\n",
            "Epoch 10: ReduceLROnPlateau reducing learning rate to 0.0005000000237487257.\n",
            "\u001b[1m512/512\u001b[0m \u001b[32m━━━━━━━━━━━━━━━━━━━━\u001b[0m\u001b[37m\u001b[0m \u001b[1m2s\u001b[0m 4ms/step - loss: 6.8869 - mae: 1.8950 - val_loss: 4.4856 - val_mae: 1.5512 - learning_rate: 0.0010\n",
            "Epoch 11/100\n",
            "\u001b[1m512/512\u001b[0m \u001b[32m━━━━━━━━━━━━━━━━━━━━\u001b[0m\u001b[37m\u001b[0m \u001b[1m2s\u001b[0m 4ms/step - loss: 6.4915 - mae: 1.8145 - val_loss: 5.3032 - val_mae: 1.6715 - learning_rate: 5.0000e-04\n",
            "Epoch 12/100\n",
            "\u001b[1m512/512\u001b[0m \u001b[32m━━━━━━━━━━━━━━━━━━━━\u001b[0m\u001b[37m\u001b[0m \u001b[1m3s\u001b[0m 4ms/step - loss: 6.0707 - mae: 1.7606 - val_loss: 5.3998 - val_mae: 1.6804 - learning_rate: 5.0000e-04\n",
            "Epoch 13/100\n",
            "\u001b[1m512/512\u001b[0m \u001b[32m━━━━━━━━━━━━━━━━━━━━\u001b[0m\u001b[37m\u001b[0m \u001b[1m2s\u001b[0m 4ms/step - loss: 5.8657 - mae: 1.7157 - val_loss: 4.3864 - val_mae: 1.5147 - learning_rate: 5.0000e-04\n",
            "Epoch 14/100\n",
            "\u001b[1m512/512\u001b[0m \u001b[32m━━━━━━━━━━━━━━━━━━━━\u001b[0m\u001b[37m\u001b[0m \u001b[1m2s\u001b[0m 5ms/step - loss: 5.4591 - mae: 1.6672 - val_loss: 4.6105 - val_mae: 1.5412 - learning_rate: 5.0000e-04\n",
            "Epoch 15/100\n",
            "\u001b[1m512/512\u001b[0m \u001b[32m━━━━━━━━━━━━━━━━━━━━\u001b[0m\u001b[37m\u001b[0m \u001b[1m3s\u001b[0m 5ms/step - loss: 5.3085 - mae: 1.6340 - val_loss: 3.9039 - val_mae: 1.4302 - learning_rate: 5.0000e-04\n",
            "Epoch 16/100\n",
            "\u001b[1m512/512\u001b[0m \u001b[32m━━━━━━━━━━━━━━━━━━━━\u001b[0m\u001b[37m\u001b[0m \u001b[1m2s\u001b[0m 4ms/step - loss: 5.3355 - mae: 1.6196 - val_loss: 4.5059 - val_mae: 1.5125 - learning_rate: 5.0000e-04\n",
            "Epoch 17/100\n",
            "\u001b[1m512/512\u001b[0m \u001b[32m━━━━━━━━━━━━━━━━━━━━\u001b[0m\u001b[37m\u001b[0m \u001b[1m2s\u001b[0m 4ms/step - loss: 5.2594 - mae: 1.6032 - val_loss: 4.4659 - val_mae: 1.5130 - learning_rate: 5.0000e-04\n",
            "Epoch 18/100\n",
            "\u001b[1m512/512\u001b[0m \u001b[32m━━━━━━━━━━━━━━━━━━━━\u001b[0m\u001b[37m\u001b[0m \u001b[1m2s\u001b[0m 4ms/step - loss: 5.1700 - mae: 1.5898 - val_loss: 3.8140 - val_mae: 1.4142 - learning_rate: 5.0000e-04\n",
            "Epoch 19/100\n",
            "\u001b[1m512/512\u001b[0m \u001b[32m━━━━━━━━━━━━━━━━━━━━\u001b[0m\u001b[37m\u001b[0m \u001b[1m2s\u001b[0m 4ms/step - loss: 4.8864 - mae: 1.5586 - val_loss: 5.0032 - val_mae: 1.5681 - learning_rate: 5.0000e-04\n",
            "Epoch 20/100\n",
            "\u001b[1m512/512\u001b[0m \u001b[32m━━━━━━━━━━━━━━━━━━━━\u001b[0m\u001b[37m\u001b[0m \u001b[1m2s\u001b[0m 4ms/step - loss: 4.9644 - mae: 1.5701 - val_loss: 3.6715 - val_mae: 1.3660 - learning_rate: 5.0000e-04\n",
            "Epoch 21/100\n",
            "\u001b[1m512/512\u001b[0m \u001b[32m━━━━━━━━━━━━━━━━━━━━\u001b[0m\u001b[37m\u001b[0m \u001b[1m3s\u001b[0m 6ms/step - loss: 4.8674 - mae: 1.5423 - val_loss: 3.5941 - val_mae: 1.3631 - learning_rate: 5.0000e-04\n",
            "Epoch 22/100\n",
            "\u001b[1m512/512\u001b[0m \u001b[32m━━━━━━━━━━━━━━━━━━━━\u001b[0m\u001b[37m\u001b[0m \u001b[1m2s\u001b[0m 4ms/step - loss: 4.6969 - mae: 1.5233 - val_loss: 3.2904 - val_mae: 1.2840 - learning_rate: 5.0000e-04\n",
            "Epoch 23/100\n",
            "\u001b[1m512/512\u001b[0m \u001b[32m━━━━━━━━━━━━━━━━━━━━\u001b[0m\u001b[37m\u001b[0m \u001b[1m2s\u001b[0m 4ms/step - loss: 4.7449 - mae: 1.5298 - val_loss: 3.6681 - val_mae: 1.3485 - learning_rate: 5.0000e-04\n",
            "Epoch 24/100\n",
            "\u001b[1m512/512\u001b[0m \u001b[32m━━━━━━━━━━━━━━━━━━━━\u001b[0m\u001b[37m\u001b[0m \u001b[1m2s\u001b[0m 4ms/step - loss: 4.5860 - mae: 1.5074 - val_loss: 3.4474 - val_mae: 1.3215 - learning_rate: 5.0000e-04\n",
            "Epoch 25/100\n",
            "\u001b[1m512/512\u001b[0m \u001b[32m━━━━━━━━━━━━━━━━━━━━\u001b[0m\u001b[37m\u001b[0m \u001b[1m2s\u001b[0m 4ms/step - loss: 4.4730 - mae: 1.4849 - val_loss: 3.5825 - val_mae: 1.3373 - learning_rate: 5.0000e-04\n",
            "Epoch 26/100\n",
            "\u001b[1m512/512\u001b[0m \u001b[32m━━━━━━━━━━━━━━━━━━━━\u001b[0m\u001b[37m\u001b[0m \u001b[1m3s\u001b[0m 5ms/step - loss: 4.4912 - mae: 1.4887 - val_loss: 3.1670 - val_mae: 1.2646 - learning_rate: 5.0000e-04\n",
            "Epoch 27/100\n",
            "\u001b[1m512/512\u001b[0m \u001b[32m━━━━━━━━━━━━━━━━━━━━\u001b[0m\u001b[37m\u001b[0m \u001b[1m5s\u001b[0m 5ms/step - loss: 4.2831 - mae: 1.4711 - val_loss: 3.2812 - val_mae: 1.2820 - learning_rate: 5.0000e-04\n",
            "Epoch 28/100\n",
            "\u001b[1m512/512\u001b[0m \u001b[32m━━━━━━━━━━━━━━━━━━━━\u001b[0m\u001b[37m\u001b[0m \u001b[1m2s\u001b[0m 4ms/step - loss: 4.5476 - mae: 1.4790 - val_loss: 3.8902 - val_mae: 1.3695 - learning_rate: 5.0000e-04\n",
            "Epoch 29/100\n",
            "\u001b[1m512/512\u001b[0m \u001b[32m━━━━━━━━━━━━━━━━━━━━\u001b[0m\u001b[37m\u001b[0m \u001b[1m2s\u001b[0m 4ms/step - loss: 4.4595 - mae: 1.4705 - val_loss: 2.9276 - val_mae: 1.2087 - learning_rate: 5.0000e-04\n",
            "Epoch 30/100\n",
            "\u001b[1m512/512\u001b[0m \u001b[32m━━━━━━━━━━━━━━━━━━━━\u001b[0m\u001b[37m\u001b[0m \u001b[1m2s\u001b[0m 4ms/step - loss: 4.1689 - mae: 1.4416 - val_loss: 3.2181 - val_mae: 1.2604 - learning_rate: 5.0000e-04\n",
            "Epoch 31/100\n",
            "\u001b[1m512/512\u001b[0m \u001b[32m━━━━━━━━━━━━━━━━━━━━\u001b[0m\u001b[37m\u001b[0m \u001b[1m3s\u001b[0m 6ms/step - loss: 4.1438 - mae: 1.4310 - val_loss: 2.9102 - val_mae: 1.2224 - learning_rate: 5.0000e-04\n",
            "Epoch 32/100\n",
            "\u001b[1m512/512\u001b[0m \u001b[32m━━━━━━━━━━━━━━━━━━━━\u001b[0m\u001b[37m\u001b[0m \u001b[1m2s\u001b[0m 4ms/step - loss: 4.1163 - mae: 1.4317 - val_loss: 2.8563 - val_mae: 1.2098 - learning_rate: 5.0000e-04\n",
            "Epoch 33/100\n",
            "\u001b[1m512/512\u001b[0m \u001b[32m━━━━━━━━━━━━━━━━━━━━\u001b[0m\u001b[37m\u001b[0m \u001b[1m2s\u001b[0m 4ms/step - loss: 4.0239 - mae: 1.4198 - val_loss: 3.1983 - val_mae: 1.2687 - learning_rate: 5.0000e-04\n",
            "Epoch 34/100\n",
            "\u001b[1m512/512\u001b[0m \u001b[32m━━━━━━━━━━━━━━━━━━━━\u001b[0m\u001b[37m\u001b[0m \u001b[1m2s\u001b[0m 4ms/step - loss: 4.0894 - mae: 1.4246 - val_loss: 2.8198 - val_mae: 1.1989 - learning_rate: 5.0000e-04\n",
            "Epoch 35/100\n",
            "\u001b[1m512/512\u001b[0m \u001b[32m━━━━━━━━━━━━━━━━━━━━\u001b[0m\u001b[37m\u001b[0m \u001b[1m2s\u001b[0m 4ms/step - loss: 4.0224 - mae: 1.4038 - val_loss: 2.9999 - val_mae: 1.2163 - learning_rate: 5.0000e-04\n",
            "Epoch 36/100\n",
            "\u001b[1m512/512\u001b[0m \u001b[32m━━━━━━━━━━━━━━━━━━━━\u001b[0m\u001b[37m\u001b[0m \u001b[1m2s\u001b[0m 4ms/step - loss: 4.0419 - mae: 1.4092 - val_loss: 3.1187 - val_mae: 1.2459 - learning_rate: 5.0000e-04\n",
            "Epoch 37/100\n",
            "\u001b[1m512/512\u001b[0m \u001b[32m━━━━━━━━━━━━━━━━━━━━\u001b[0m\u001b[37m\u001b[0m \u001b[1m3s\u001b[0m 6ms/step - loss: 4.1166 - mae: 1.4110 - val_loss: 2.6538 - val_mae: 1.1476 - learning_rate: 5.0000e-04\n",
            "Epoch 38/100\n",
            "\u001b[1m512/512\u001b[0m \u001b[32m━━━━━━━━━━━━━━━━━━━━\u001b[0m\u001b[37m\u001b[0m \u001b[1m2s\u001b[0m 4ms/step - loss: 3.9174 - mae: 1.3921 - val_loss: 2.7475 - val_mae: 1.1755 - learning_rate: 5.0000e-04\n",
            "Epoch 39/100\n",
            "\u001b[1m512/512\u001b[0m \u001b[32m━━━━━━━━━━━━━━━━━━━━\u001b[0m\u001b[37m\u001b[0m \u001b[1m3s\u001b[0m 5ms/step - loss: 3.9378 - mae: 1.3783 - val_loss: 3.0017 - val_mae: 1.2279 - learning_rate: 5.0000e-04\n",
            "Epoch 40/100\n",
            "\u001b[1m512/512\u001b[0m \u001b[32m━━━━━━━━━━━━━━━━━━━━\u001b[0m\u001b[37m\u001b[0m \u001b[1m2s\u001b[0m 4ms/step - loss: 4.0203 - mae: 1.3936 - val_loss: 2.6549 - val_mae: 1.1390 - learning_rate: 5.0000e-04\n",
            "Epoch 41/100\n",
            "\u001b[1m512/512\u001b[0m \u001b[32m━━━━━━━━━━━━━━━━━━━━\u001b[0m\u001b[37m\u001b[0m \u001b[1m2s\u001b[0m 4ms/step - loss: 3.7546 - mae: 1.3665 - val_loss: 2.8033 - val_mae: 1.1495 - learning_rate: 5.0000e-04\n",
            "Epoch 42/100\n",
            "\u001b[1m512/512\u001b[0m \u001b[32m━━━━━━━━━━━━━━━━━━━━\u001b[0m\u001b[37m\u001b[0m \u001b[1m3s\u001b[0m 5ms/step - loss: 3.8451 - mae: 1.3682 - val_loss: 2.7861 - val_mae: 1.1884 - learning_rate: 5.0000e-04\n",
            "Epoch 43/100\n",
            "\u001b[1m507/512\u001b[0m \u001b[32m━━━━━━━━━━━━━━━━━━━\u001b[0m\u001b[37m━\u001b[0m \u001b[1m0s\u001b[0m 4ms/step - loss: 3.8263 - mae: 1.3780\n",
            "Epoch 43: ReduceLROnPlateau reducing learning rate to 0.0002500000118743628.\n",
            "\u001b[1m512/512\u001b[0m \u001b[32m━━━━━━━━━━━━━━━━━━━━\u001b[0m\u001b[37m\u001b[0m \u001b[1m3s\u001b[0m 5ms/step - loss: 3.8256 - mae: 1.3779 - val_loss: 2.6986 - val_mae: 1.1564 - learning_rate: 5.0000e-04\n",
            "Epoch 44/100\n",
            "\u001b[1m512/512\u001b[0m \u001b[32m━━━━━━━━━━━━━━━━━━━━\u001b[0m\u001b[37m\u001b[0m \u001b[1m2s\u001b[0m 4ms/step - loss: 3.6563 - mae: 1.3521 - val_loss: 2.8085 - val_mae: 1.1708 - learning_rate: 2.5000e-04\n",
            "Epoch 45/100\n",
            "\u001b[1m512/512\u001b[0m \u001b[32m━━━━━━━━━━━━━━━━━━━━\u001b[0m\u001b[37m\u001b[0m \u001b[1m2s\u001b[0m 4ms/step - loss: 3.7943 - mae: 1.3673 - val_loss: 2.7031 - val_mae: 1.1452 - learning_rate: 2.5000e-04\n",
            "Epoch 46/100\n",
            "\u001b[1m512/512\u001b[0m \u001b[32m━━━━━━━━━━━━━━━━━━━━\u001b[0m\u001b[37m\u001b[0m \u001b[1m2s\u001b[0m 4ms/step - loss: 3.7423 - mae: 1.3480 - val_loss: 2.6586 - val_mae: 1.1308 - learning_rate: 2.5000e-04\n",
            "Epoch 47/100\n",
            "\u001b[1m512/512\u001b[0m \u001b[32m━━━━━━━━━━━━━━━━━━━━\u001b[0m\u001b[37m\u001b[0m \u001b[1m2s\u001b[0m 4ms/step - loss: 3.6928 - mae: 1.3495 - val_loss: 2.6566 - val_mae: 1.1439 - learning_rate: 2.5000e-04\n",
            "Epoch 47: early stopping\n",
            "Restoring model weights from the end of the best epoch: 37.\n"
          ]
        }
      ]
    },
    {
      "cell_type": "markdown",
      "source": [
        "Evaluasi pada set uji"
      ],
      "metadata": {
        "id": "585fFndtg9Yr"
      }
    },
    {
      "cell_type": "code",
      "source": [
        "y_pred = model.predict(X_test_arr).flatten()\n",
        "\n",
        "mae = mean_absolute_error(y_test_arr, y_pred)\n",
        "mse = mean_squared_error(y_test_arr, y_pred)\n",
        "rmse = np.sqrt(mse)\n",
        "r2 = r2_score(y_test_arr, y_pred)\n",
        "\n",
        "print(\"\\n=== Evaluation on TEST set ===\")\n",
        "print(f\"MAE  : {mae:.3f}\")\n",
        "print(f\"MSE  : {mse:.3f}\")\n",
        "print(f\"RMSE : {rmse:.3f}\")\n",
        "print(f\"R²   : {r2:.3f}\")"
      ],
      "metadata": {
        "colab": {
          "base_uri": "https://localhost:8080/"
        },
        "id": "k_ACSz2ghF4Y",
        "outputId": "367e3620-9851-4c99-eb1b-062ad80f3b97"
      },
      "execution_count": 130,
      "outputs": [
        {
          "output_type": "stream",
          "name": "stdout",
          "text": [
            "\u001b[1m302/302\u001b[0m \u001b[32m━━━━━━━━━━━━━━━━━━━━\u001b[0m\u001b[37m\u001b[0m \u001b[1m1s\u001b[0m 2ms/step\n",
            "\n",
            "=== Evaluation on TEST set ===\n",
            "MAE  : 1.143\n",
            "MSE  : 2.444\n",
            "RMSE : 1.563\n",
            "R²   : 0.920\n"
          ]
        }
      ]
    },
    {
      "cell_type": "markdown",
      "source": [
        "Grafik: kurva pelatihan dan perbandingan antara data aktual dan prediksi."
      ],
      "metadata": {
        "id": "h1hs9u2-hGfU"
      }
    },
    {
      "cell_type": "code",
      "source": [
        "# Kurva pelatihan\n",
        "plt.figure(figsize=(12,4))\n",
        "plt.subplot(1,2,1)\n",
        "plt.plot(history.history['loss'], label='train_loss')\n",
        "plt.plot(history.history['val_loss'], label='val_loss')\n",
        "plt.legend(); plt.title('Loss (MSE)')\n",
        "\n",
        "plt.subplot(1,2,2)\n",
        "plt.plot(history.history['mae'], label='train_mae')\n",
        "plt.plot(history.history['val_mae'], label='val_mae')\n",
        "plt.legend(); plt.title('MAE')\n",
        "plt.show()\n",
        "\n",
        "# Scatter Asli vs Prediksi\n",
        "plt.figure(figsize=(6,6))\n",
        "plt.scatter(y_test_arr, y_pred, alpha=0.5)\n",
        "plt.plot([y_test_arr.min(), y_test_arr.max()], [y_test_arr.min(), y_test_arr.max()], 'r--')\n",
        "plt.xlabel('Actual comb08 (MPG)')\n",
        "plt.ylabel('Predicted comb08 (MPG)')\n",
        "plt.title('Actual vs Predicted on TEST set')\n",
        "plt.show()\n",
        "\n",
        "# Residual plot\n",
        "residuals = y_test_arr - y_pred\n",
        "plt.figure(figsize=(6,4))\n",
        "plt.scatter(y_test_arr, residuals, alpha=0.5)\n",
        "plt.axhline(0, color='r', linestyle='--')\n",
        "plt.xlabel('Actual comb08 (MPG)')\n",
        "plt.ylabel('Residual (Actual - Pred)')\n",
        "plt.title('Residuals')\n",
        "plt.show()\n"
      ],
      "metadata": {
        "colab": {
          "base_uri": "https://localhost:8080/",
          "height": 1000
        },
        "id": "CFi-eq6UhJhI",
        "outputId": "3398e83c-98fe-42f9-8802-8ce21be138c7"
      },
      "execution_count": 131,
      "outputs": [
        {
          "output_type": "display_data",
          "data": {
            "text/plain": [
              "<Figure size 1200x400 with 2 Axes>"
            ],
            "image/png": "[encoded data removed]"
          },
          "metadata": {}
        },
        {
          "output_type": "display_data",
          "data": {
            "text/plain": [
              "<Figure size 600x600 with 1 Axes>"
            ],
            "image/png": "[encoded data removed]"
          },
          "metadata": {}
        },
        {
          "output_type": "display_data",
          "data": {
            "text/plain": [
              "<Figure size 600x400 with 1 Axes>"
            ],
            "image/png": "[encoded data removed]"
          },
          "metadata": {}
        }
      ]
    },
    {
      "cell_type": "markdown",
      "source": [
        "opsional: save model"
      ],
      "metadata": {
        "id": "b-GOIp4OhZ4d"
      }
    },
    {
      "cell_type": "code",
      "source": [
        "# Save model and scaler if needed\n",
        "model.save('mpg_dl_model.h5')\n",
        "import joblib\n",
        "joblib.dump(scaler, 'scaler.joblib')\n",
        "print(\"Saved model to mpg_dl_model.h5 and scaler.joblib\")"
      ],
      "metadata": {
        "colab": {
          "base_uri": "https://localhost:8080/"
        },
        "id": "_BOc_JLVhfLl",
        "outputId": "7f9c289c-c0a8-4b6b-fb0a-90ee36719716"
      },
      "execution_count": 132,
      "outputs": [
        {
          "output_type": "stream",
          "name": "stderr",
          "text": [
            "WARNING:absl:You are saving your model as an HDF5 file via `model.save()` or `keras.saving.save_model(model)`. This file format is considered legacy. We recommend using instead the native Keras format, e.g. `model.save('my_model.keras')` or `keras.saving.save_model(model, 'my_model.keras')`. \n"
          ]
        },
        {
          "output_type": "stream",
          "name": "stdout",
          "text": [
            "Saved model to mpg_dl_model.h5 and scaler.joblib\n"
          ]
        }
      ]
    }
  ]
}